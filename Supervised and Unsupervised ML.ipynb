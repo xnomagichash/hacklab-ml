{
 "cells": [
  {
   "cell_type": "code",
   "execution_count": 1,
   "metadata": {
    "collapsed": true
   },
   "outputs": [],
   "source": [
    "%matplotlib inline"
   ]
  },
  {
   "cell_type": "markdown",
   "metadata": {},
   "source": [
    "# Machine Learning - Clustering and Classification\n",
    "\n",
    "Machine learning is often divided into three broad categories, supervised, unsupervised and reinforcement learning. We'll be skipping reinforcement learning today, so we can focus on supervised and unsupervised algorithms.\n",
    "\n",
    "## Supervised Learning\n",
    "\n",
    "Supervised learning is based on the notion of taking a set of data called a training set, consisting of labeled examples, and using it to build a model of how to classify new examples to fit within the existing training set."
   ]
  },
  {
   "cell_type": "markdown",
   "metadata": {},
   "source": [
    "### K Nearest Neighbors\n",
    "Today we're going to build a training set and use scikit-learn to build a KNN classifier. As you will see, using existing algorithms (rather than building your own) is extremely simple, so there's no reason not to experiment."
   ]
  },
  {
   "cell_type": "code",
   "execution_count": 2,
   "metadata": {
    "collapsed": true
   },
   "outputs": [],
   "source": [
    "import random"
   ]
  },
  {
   "cell_type": "markdown",
   "metadata": {},
   "source": [
    "Instead of generating a set by hand, let's create a randomize set of points on a plot colored differently based on different distributions. We'll use three different gaussian distributions to create the set."
   ]
  },
  {
   "cell_type": "code",
   "execution_count": 28,
   "metadata": {
    "collapsed": false
   },
   "outputs": [],
   "source": [
    "red   = [(round(random.gauss(27, 10)), round(random.gauss(31, 10))) for x in range(100)]\n",
    "green = [(round(random.gauss(40, 8)), round(random.gauss(40, 9))) for x in range(100)]\n",
    "blue  = [(round(random.gauss(50, 10)), round(random.gauss(60, 12))) for x in range(100)]"
   ]
  },
  {
   "cell_type": "code",
   "execution_count": 29,
   "metadata": {
    "collapsed": true
   },
   "outputs": [],
   "source": [
    "import matplotlib.pyplot as plt # Let's plot!"
   ]
  },
  {
   "cell_type": "code",
   "execution_count": 30,
   "metadata": {
    "collapsed": false
   },
   "outputs": [
    {
     "data": {
      "image/png": "[encoded data removed]",
      "text/plain": [
       "<matplotlib.figure.Figure at 0x1061c1b10>"
      ]
     },
     "metadata": {},
     "output_type": "display_data"
    }
   ],
   "source": [
    "plt.rc('axes', color_cycle=['r', 'g', 'b'])\n",
    "plt.axis([0, 100, 0, 100])\n",
    "plt.plot([x for x,y  in red], [y for x,y in red], 'ro')\n",
    "plt.plot([x for x,y in green], [y for x,y in green], 'go')\n",
    "plt.plot([x for x,y in blue], [y for x,y in blue], 'bo')\n",
    "plt.show()"
   ]
  },
  {
   "cell_type": "markdown",
   "metadata": {},
   "source": [
    "That looks like a pretty good distribution. Now we can see that there are intuitively three regions of the graph where there are points of a particular color dominating. The KNN algorithm predicts an unlabeled point is most likely to be the same color as its K nearest neighbors. "
   ]
  },
  {
   "cell_type": "code",
   "execution_count": 31,
   "metadata": {
    "collapsed": true
   },
   "outputs": [],
   "source": [
    "from sklearn.neighbors import KNeighborsClassifier"
   ]
  },
  {
   "cell_type": "code",
   "execution_count": 33,
   "metadata": {
    "collapsed": true
   },
   "outputs": [],
   "source": [
    "neighbors = KNeighborsClassifier(n_neighbors=5)"
   ]
  },
  {
   "cell_type": "code",
   "execution_count": 39,
   "metadata": {
    "collapsed": false
   },
   "outputs": [
    {
     "data": {
      "text/plain": [
       "KNeighborsClassifier(algorithm='auto', leaf_size=30, metric='minkowski',\n",
       "           metric_params=None, n_neighbors=5, p=2, weights='uniform')"
      ]
     },
     "execution_count": 39,
     "metadata": {},
     "output_type": "execute_result"
    }
   ],
   "source": [
    "neighbors.fit(red + green + blue, [0]*100 + [1]*100 + [2]*100) # we have to put all points in serially and label each"
   ]
  },
  {
   "cell_type": "code",
   "execution_count": 61,
   "metadata": {
    "collapsed": false
   },
   "outputs": [
    {
     "name": "stdout",
     "output_type": "stream",
     "text": [
      "Point\t\tProbability\n",
      "P: (20,20)\tR: 100.0%\n",
      "\t\tG: 0.0%\n",
      "\t\tB: 0.0%\n",
      "\n",
      "P: (23,23)\tR: 80.0%\n",
      "\t\tG: 20.0%\n",
      "\t\tB: 0.0%\n",
      "\n",
      "P: (26,26)\tR: 100.0%\n",
      "\t\tG: 0.0%\n",
      "\t\tB: 0.0%\n",
      "\n",
      "P: (29,29)\tR: 80.0%\n",
      "\t\tG: 20.0%\n",
      "\t\tB: 0.0%\n",
      "\n",
      "P: (32,32)\tR: 100.0%\n",
      "\t\tG: 0.0%\n",
      "\t\tB: 0.0%\n",
      "\n",
      "P: (35,35)\tR: 20.0%\n",
      "\t\tG: 80.0%\n",
      "\t\tB: 0.0%\n",
      "\n",
      "P: (38,38)\tR: 0.0%\n",
      "\t\tG: 60.0%\n",
      "\t\tB: 40.0%\n",
      "\n",
      "P: (41,41)\tR: 0.0%\n",
      "\t\tG: 100.0%\n",
      "\t\tB: 0.0%\n",
      "\n",
      "P: (44,44)\tR: 40.0%\n",
      "\t\tG: 60.0%\n",
      "\t\tB: 0.0%\n",
      "\n",
      "P: (47,47)\tR: 0.0%\n",
      "\t\tG: 80.0%\n",
      "\t\tB: 20.0%\n",
      "\n",
      "P: (50,50)\tR: 0.0%\n",
      "\t\tG: 40.0%\n",
      "\t\tB: 60.0%\n",
      "\n",
      "P: (53,53)\tR: 0.0%\n",
      "\t\tG: 0.0%\n",
      "\t\tB: 100.0%\n",
      "\n",
      "P: (56,56)\tR: 0.0%\n",
      "\t\tG: 0.0%\n",
      "\t\tB: 100.0%\n",
      "\n",
      "P: (59,59)\tR: 0.0%\n",
      "\t\tG: 0.0%\n",
      "\t\tB: 100.0%\n",
      "\n",
      "P: (62,62)\tR: 0.0%\n",
      "\t\tG: 0.0%\n",
      "\t\tB: 100.0%\n",
      "\n",
      "P: (65,65)\tR: 0.0%\n",
      "\t\tG: 0.0%\n",
      "\t\tB: 100.0%\n",
      "\n",
      "P: (68,68)\tR: 0.0%\n",
      "\t\tG: 0.0%\n",
      "\t\tB: 100.0%\n",
      "\n",
      "P: (71,71)\tR: 0.0%\n",
      "\t\tG: 0.0%\n",
      "\t\tB: 100.0%\n",
      "\n",
      "P: (74,74)\tR: 0.0%\n",
      "\t\tG: 0.0%\n",
      "\t\tB: 100.0%\n",
      "\n",
      "P: (77,77)\tR: 0.0%\n",
      "\t\tG: 0.0%\n",
      "\t\tB: 100.0%\n",
      "\n"
     ]
    }
   ],
   "source": [
    "print(\"Point\\t\\tProbability\")\n",
    "for x,y in zip(range(20, 80, 3), range(20, 80, 3)):\n",
    "    r,g,b = neighbors.predict_proba([x,y])[0]\n",
    "    print(\"P: ({},{})\\tR: {}%\\n\\t\\tG: {}%\\n\\t\\tB: {}%\\n\".format(x, y, r*100, g*100, b*100))"
   ]
  },
  {
   "cell_type": "markdown",
   "metadata": {},
   "source": [
    "## Unupervised Learning\n",
    "\n",
    "Unupervised learning is based on the idea of pattern matching, where an algorithm learns to find patterns in the data and separates data based on which pattern it fits.\n",
    "\n",
    "\n",
    "### K-Means\n",
    "For the Unsupervises learning example, we're going to cluster some distinct points into groups. Let's start the same way as last time."
   ]
  },
  {
   "cell_type": "code",
   "execution_count": 69,
   "metadata": {
    "collapsed": true
   },
   "outputs": [],
   "source": [
    "red2   = [(round(random.gauss(17, 5)), round(random.gauss(21, 6))) for x in range(20)]\n",
    "green2 = [(round(random.gauss(40, 8)), round(random.gauss(40, 6))) for x in range(20)]\n",
    "blue2  = [(round(random.gauss(60, 7)), round(random.gauss(60, 4))) for x in range(20)]"
   ]
  },
  {
   "cell_type": "code",
   "execution_count": 71,
   "metadata": {
    "collapsed": false
   },
   "outputs": [
    {
     "data": {
      "image/png": "[encoded data removed]",
      "text/plain": [
       "<matplotlib.figure.Figure at 0x1081cb410>"
      ]
     },
     "metadata": {},
     "output_type": "display_data"
    }
   ],
   "source": [
    "plt.rc('axes', color_cycle=['r', 'g', 'b'])\n",
    "plt.axis([0, 100, 0, 100])\n",
    "plt.plot([x for x,y  in red2], [y for x,y in red2], 'ro')\n",
    "plt.plot([x for x,y in green2], [y for x,y in green2], 'go')\n",
    "plt.plot([x for x,y in blue2], [y for x,y in blue2], 'bo')\n",
    "plt.show()"
   ]
  },
  {
   "cell_type": "markdown",
   "metadata": {},
   "source": [
    "It's clear for the most part where the boundaries between these different point groups is when we look at a colored chart. Now let's see if we can get sklearn to figure out the same, just looking at the data with no help."
   ]
  },
  {
   "cell_type": "code",
   "execution_count": 73,
   "metadata": {
    "collapsed": false
   },
   "outputs": [],
   "source": [
    "from sklearn.cluster import KMeans"
   ]
  },
  {
   "cell_type": "code",
   "execution_count": 75,
   "metadata": {
    "collapsed": false
   },
   "outputs": [],
   "source": [
    "kmeans = KMeans(n_clusters=3) # We know there are three clusters"
   ]
  },
  {
   "cell_type": "code",
   "execution_count": 77,
   "metadata": {
    "collapsed": false
   },
   "outputs": [
    {
     "data": {
      "text/plain": [
       "KMeans(copy_x=True, init='k-means++', max_iter=300, n_clusters=3, n_init=10,\n",
       "    n_jobs=1, precompute_distances='auto', random_state=None, tol=0.0001,\n",
       "    verbose=0)"
      ]
     },
     "execution_count": 77,
     "metadata": {},
     "output_type": "execute_result"
    }
   ],
   "source": [
    "kmeans.fit(red2+green2+blue2)"
   ]
  },
  {
   "cell_type": "code",
   "execution_count": 87,
   "metadata": {
    "collapsed": false
   },
   "outputs": [
    {
     "name": "stdout",
     "output_type": "stream",
     "text": [
      "Red:\t1 1 1 1 1 1 1 1 1 1 1 1 1 1 1 1 1 1 1 1\n",
      "Green:\t0 0 0 0 0 0 0 0 0 0 0 0 0 0 0 0 0 0 0 0\n",
      "Blue:\t2 2 2 2 2 2 2 2 2 2 2 2 2 2 2 2 2 2 2 2\n"
     ]
    }
   ],
   "source": [
    "print(\"Red:\\t{}\".format(\" \".join(str(kmeans.predict(pt)[0]) for pt in red2)))\n",
    "print(\"Green:\\t{}\".format(\" \".join(str(kmeans.predict(pt)[0]) for pt in green2)))\n",
    "print(\"Blue:\\t{}\".format(\" \".join(str(kmeans.predict(pt)[0]) for pt in blue2)))"
   ]
  },
  {
   "cell_type": "markdown",
   "metadata": {},
   "source": [
    "There you have it! On its own, knowing only to separate into three clusters, via the K-Means algorithm sklearn was able to find the boundaries between each cluster."
   ]
  },
  {
   "cell_type": "code",
   "execution_count": null,
   "metadata": {
    "collapsed": true
   },
   "outputs": [],
   "source": []
  }
 ],
 "metadata": {
  "kernelspec": {
   "display_name": "Python 2",
   "language": "python",
   "name": "python2"
  },
  "language_info": {
   "codemirror_mode": {
    "name": "ipython",
    "version": 2
   },
   "file_extension": ".py",
   "mimetype": "text/x-python",
   "name": "python",
   "nbconvert_exporter": "python",
   "pygments_lexer": "ipython2",
   "version": "2.7.10"
  }
 },
 "nbformat": 4,
 "nbformat_minor": 0
}
